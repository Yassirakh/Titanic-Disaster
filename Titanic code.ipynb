{
 "cells": [
  {
   "cell_type": "code",
   "execution_count": 89,
   "metadata": {},
   "outputs": [
    {
     "name": "stderr",
     "output_type": "stream",
     "text": [
      "C:\\Users\\akhmi\\Anaconda3\\lib\\site-packages\\pandas\\core\\indexing.py:205: SettingWithCopyWarning: \n",
      "A value is trying to be set on a copy of a slice from a DataFrame\n",
      "\n",
      "See the caveats in the documentation: http://pandas.pydata.org/pandas-docs/stable/user_guide/indexing.html#returning-a-view-versus-a-copy\n",
      "  self._setitem_with_indexer(indexer, value)\n"
     ]
    }
   ],
   "source": [
    "import numpy as np\n",
    "import pandas as pd\n",
    "import dabl\n",
    "from sklearn.preprocessing import LabelEncoder \n",
    "from sklearn.preprocessing import OneHotEncoder\n",
    "from sklearn.ensemble import RandomForestClassifier\n",
    "\n",
    "#Importing the train and test set\n",
    "train_data = pd.read_csv(\"train.csv\")\n",
    "test_data = pd.read_csv(\"test.csv\")\n",
    "\n",
    "#Encoding the Sex feature\n",
    "le = LabelEncoder() \n",
    "train_data['Sex'] = le.fit_transform(train_data['Sex']) \n",
    "test_data['Sex']  = le.fit_transform(test_data['Sex']) \n",
    "\n",
    "for dataset in [train_data, test_data]:\n",
    "    #Filling Embarked null values with the mode\n",
    "    dataset['Embarked'] = dataset['Embarked'].fillna(train_data.Embarked.dropna().mode()[0])\n",
    "    #Summing over the family member (+1 refers to the passeger himself)\n",
    "    dataset['FamilySize'] = dataset ['SibSp'] + dataset['Parch'] + 1\n",
    "    #initialize to yes/1 is alone\n",
    "    dataset['IsAlone'] = 1 \n",
    "    dataset['IsAlone'].loc[dataset['FamilySize'] > 1] = 0  \n",
    "    \n",
    "#Using the OneHotEncoder for the Embarked column\n",
    "embarked_ohe = OneHotEncoder()    \n",
    "\n",
    "X_TRAIN = embarked_ohe.fit_transform(train_data.Embarked.values.reshape(-1,1)).toarray()\n",
    "X_TEST = embarked_ohe.fit_transform(test_data.Embarked.values.reshape(-1,1)).toarray()\n",
    "\n",
    "dfOneHot = pd.DataFrame(X_TRAIN, columns = [\"Embarked_\"+str(int(i)) for i in range(X_TRAIN.shape[1])])\n",
    "dfOneHot_TEST = pd.DataFrame(X_TEST, columns = [\"Embarked_\"+str(int(i)) for i in range(X_TEST.shape[1])])\n",
    "train_data = pd.concat([train_data, dfOneHot], axis=1)\n",
    "test_data = pd.concat([test_data, dfOneHot_TEST], axis=1)\n",
    "\n",
    "\n",
    "#Filling Age and Fare NAN\n",
    "train_data['Age'].fillna(train_data['Age'].dropna().median(), inplace=True)\n",
    "train_data['Fare'].fillna(train_data['Fare'].dropna().median(), inplace=True)\n",
    "test_data['Age'].fillna(test_data['Age'].dropna().median(), inplace=True)\n",
    "test_data['Fare'].fillna(test_data['Fare'].dropna().median(), inplace=True)\n",
    "\n",
    "#Dropping unneeded columns\n",
    "train_data = train_data.drop(['PassengerId','Ticket','Name','Cabin','Embarked'], axis=1)\n",
    "test_data = test_data.drop(['Ticket','Name','Cabin','Embarked'], axis=1)"
   ]
  },
  {
   "cell_type": "code",
   "execution_count": 90,
   "metadata": {},
   "outputs": [],
   "source": [
    "#Fit and predict\n",
    "train_data_y = train_data[\"Survived\"]\n",
    "model = RandomForestClassifier(n_estimators=120, max_depth=10, random_state=1)\n",
    "model.fit(train_data.drop(['Survived'], axis=1), train_data_y)\n",
    "predictions = model.predict(test_data.drop('PassengerId', axis=1))\n",
    "\n",
    "output = pd.DataFrame({'PassengerId': test_data.PassengerId, 'Survived': predictions})\n",
    "output.to_csv('my_submission.csv', index=False)"
   ]
  },
  {
   "cell_type": "code",
   "execution_count": null,
   "metadata": {},
   "outputs": [],
   "source": []
  }
 ],
 "metadata": {
  "kernelspec": {
   "display_name": "Python 3",
   "language": "python",
   "name": "python3"
  },
  "language_info": {
   "codemirror_mode": {
    "name": "ipython",
    "version": 3
   },
   "file_extension": ".py",
   "mimetype": "text/x-python",
   "name": "python",
   "nbconvert_exporter": "python",
   "pygments_lexer": "ipython3",
   "version": "3.7.3"
  }
 },
 "nbformat": 4,
 "nbformat_minor": 2
}
